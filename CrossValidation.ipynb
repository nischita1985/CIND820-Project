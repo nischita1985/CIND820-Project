{
  "nbformat": 4,
  "nbformat_minor": 0,
  "metadata": {
    "colab": {
      "provenance": []
    },
    "kernelspec": {
      "name": "python3",
      "display_name": "Python 3"
    },
    "language_info": {
      "name": "python"
    }
  },
  "cells": [
    {
      "cell_type": "markdown",
      "source": [
        "Covid-19 Dataset was downloaded from: https://www.kaggle.com/datasets/meirnizri/covid19-dataset "
      ],
      "metadata": {
        "id": "0w4jWJO8r9do"
      }
    },
    {
      "cell_type": "code",
      "execution_count": 1,
      "metadata": {
        "id": "xW1BrAu9eTG6"
      },
      "outputs": [],
      "source": [
        "#libraries\n",
        "import pandas as pd\n",
        "import plotly.express as px\n",
        "import numpy as np\n",
        "import matplotlib.pyplot as plt\n",
        "import matplotlib\n",
        "\n",
        "import missingno as msno\n",
        "\n",
        "import sklearn\n",
        "from sklearn.metrics import accuracy_score\n",
        "from sklearn.metrics import classification_report\n",
        "import numpy as np\n",
        "from sklearn.linear_model import LogisticRegression\n",
        "import scipy.optimize as opt\n",
        "import matplotlib.pyplot as plt\n",
        "%matplotlib inline \n",
        "from sklearn.model_selection import train_test_split\n",
        "\n",
        "#Libraries for Forward Selection\n",
        "import joblib\n",
        "# from mlxtend.feature_selection import SequentialFeatureSelector as SFS\n",
        "from sklearn.linear_model import LinearRegression\n",
        "import pandas as pd\n",
        "import numpy as np\n",
        "\n",
        "from sklearn.metrics import classification_report\n",
        "from sklearn.ensemble import RandomForestClassifier\n",
        "\n",
        "from sklearn.naive_bayes import BernoulliNB\n",
        "from sklearn import tree\n",
        "from sklearn.tree import DecisionTreeClassifier\n",
        "\n",
        "\n",
        "from scipy import stats\n",
        "import os\n",
        "import seaborn as sns\n",
        "from imblearn.under_sampling import RandomUnderSampler\n",
        "\n",
        "#!pip install mlxtend\n",
        "import joblib\n",
        "import sys\n",
        "sys.modules['sklearn.externals.joblib'] = joblib\n",
        "from mlxtend.feature_selection import SequentialFeatureSelector as SFS\n",
        "\n",
        "from sklearn.model_selection import train_test_split \n",
        "from sklearn.linear_model import LinearRegression\n",
        "\n",
        "import warnings\n",
        "warnings.filterwarnings(\"ignore\")\n"
      ]
    },
    {
      "cell_type": "markdown",
      "source": [
        "Data PreProcessing"
      ],
      "metadata": {
        "id": "OvJ7-bMeab6F"
      }
    },
    {
      "cell_type": "code",
      "source": [
        "file = ('/content/Covid _19 _Dataset.csv')  \n",
        "#covid_ori_df is the original data\n",
        "covid_ori_df = pd.read_csv(file)\n",
        "covid_ori_df.shape"
      ],
      "metadata": {
        "id": "eJcxIDH5e2OE",
        "colab": {
          "base_uri": "https://localhost:8080/"
        },
        "outputId": "7e6780c5-f436-4503-ed35-cb6c494c7b58"
      },
      "execution_count": 2,
      "outputs": [
        {
          "output_type": "execute_result",
          "data": {
            "text/plain": [
              "(1048575, 21)"
            ]
          },
          "metadata": {},
          "execution_count": 2
        }
      ]
    },
    {
      "cell_type": "code",
      "source": [
        "# converting missing data as nan in original data\n",
        "\n",
        "#replace CLASIFFICATION_FINAL with 1,2,3 if patient is in different stages of Covid Exposure and 0 if patient is not a carrier of Covid\n",
        "covid_ori_df.loc[covid_ori_df['CLASIFFICATION_FINAL']>3, 'CLASIFFICATION_FINAL'] = 0\n",
        "\n",
        "# replace every column except CLASIFFICATION_FINAL with 97,98 and 99 with nan values and value 1 which is Yes nad 2 which is no is changed to 0\n",
        "replaceMap_dict = { 1:1, 2:0, 97:np.nan, 98:np.nan, 99:np.nan, '9999-99-99':0 }\n",
        "covidData_noClassification = covid_ori_df.drop(columns = 'CLASIFFICATION_FINAL').replace( replaceMap_dict )\n",
        "\n",
        "#concat for classification_final column as it was dropped in above step\n",
        "covid_ori_df = pd.concat(  [ covidData_noClassification, covid_ori_df['CLASIFFICATION_FINAL'] ], axis= 'columns'  )\n",
        "\n",
        "# changing DATE_DIED column having an actual Date to 1 which is the person has Died Due to covid\n",
        "covid_ori_df.loc[ covid_ori_df['DATE_DIED'] !=0, 'DATE_DIED' ] = 1\n",
        "covid_ori_df.DATE_DIED.unique()"
      ],
      "metadata": {
        "colab": {
          "base_uri": "https://localhost:8080/"
        },
        "id": "DMTLG3EfetYr",
        "outputId": "a465d5be-f77f-49da-e808-7bfe09fe26ee"
      },
      "execution_count": 3,
      "outputs": [
        {
          "output_type": "execute_result",
          "data": {
            "text/plain": [
              "array([1, 0], dtype=object)"
            ]
          },
          "metadata": {},
          "execution_count": 3
        }
      ]
    },
    {
      "cell_type": "code",
      "source": [
        "# impute missing value in original data\n",
        "covid_ori_df.columns\n",
        "#dropping 'MEDICAL_UNIT' which has irrelevant data and it does not explain my research question\n",
        "covid_ori_df.drop( columns= 'MEDICAL_UNIT', inplace= True )\n",
        "#numerical column\n",
        "num_col_ls = [ 'CLASIFFICATION_FINAL','AGE' ] \n",
        "cat_col_ls = covid_ori_df.drop( columns= num_col_ls ).columns\n",
        "\n",
        "# impute missing values of categorical column to their mode\n",
        "for col in cat_col_ls:\n",
        "    covid_ori_df[col].fillna(covid_ori_df[col].mode()[0], inplace=True)\n",
        "\n",
        "# impute numerical col: \"AGE\" to their mean and classification doesn't have missing values\n",
        "mean_value = covid_ori_df['AGE'].mean()\n",
        "covid_ori_df['AGE'].fillna(mean_value, inplace=True)\n",
        "\n",
        "covid_ori_df['Death'] = covid_ori_df['DATE_DIED']\n",
        "covid_ori_df.drop( columns= 'DATE_DIED', inplace= True )\n",
        "\n",
        "# convert all dtypes into int\n",
        "covid_ori_df = covid_ori_df.astype(np.int8)\n",
        "#covid_ori_df.dtypes\n",
        "\n",
        "#  label encoding for CLASIFFICATION_FINAL since it is the ordinal variable\n",
        "label_encoder = sklearn.preprocessing.LabelEncoder()\n",
        "covid_ori_df['CLASIFFICATION_FINAL'] = label_encoder.fit_transform( covid_ori_df['CLASIFFICATION_FINAL'] )\n",
        "#covid_ori_df\n",
        "\n",
        "# one hot encoding for categorical binary nominal variable\n",
        "miss_cat_colm = [ 'PATIENT_TYPE','INTUBED', 'PREGNANT', 'ICU', 'USMER', 'SEX', 'Death', 'PNEUMONIA', 'DIABETES', 'COPD', 'ASTHMA', 'INMSUPR', 'HIPERTENSION', 'OTHER_DISEASE', 'CARDIOVASCULAR', 'OBESITY', 'RENAL_CHRONIC', 'TOBACCO' ]\n",
        "OHEncoder = sklearn.preprocessing.OneHotEncoder( sparse= False, drop= 'first', dtype= np.int8 )\n",
        "OHEncoded_np = OHEncoder.fit_transform( covid_ori_df[miss_cat_colm] )\n",
        "OHEncoded_df = pd.DataFrame( OHEncoded_np, index= covid_ori_df.index, columns= OHEncoder.get_feature_names_out (miss_cat_colm) )\n",
        "covid_ori_df = covid_ori_df.drop( miss_cat_colm, axis= 1 )\\\n",
        "                .merge( OHEncoded_df, left_index= True, right_index= True )\n",
        "cols_to_rename = covid_ori_df.columns[  covid_ori_df.columns.str.endswith('_1') ]\n",
        "covid_ori_df = covid_ori_df.rename(  columns={col: col.replace('_1', '')  for col in cols_to_rename}  )\n",
        "cols_to_rename = covid_ori_df.columns[  covid_ori_df.columns.str.endswith('_1') ]\n",
        "covid_ori_df = covid_ori_df.rename(  columns={col: col.replace('_1', '')  for col in cols_to_rename}  )\n",
        "#covid_ori_df"
      ],
      "metadata": {
        "id": "KZM49DFwfAwp"
      },
      "execution_count": 4,
      "outputs": []
    },
    {
      "cell_type": "code",
      "source": [
        "# cheking the bar graph of target variable\n",
        "plt.hist(covid_ori_df['Death'])\n",
        "plt.ylabel('Frequency');  plt.xlabel('Survived = 0 and Died = 1');\n",
        "plt.title('Frequency Distribution of Death due to Covid-19')\n",
        "plt.show()"
      ],
      "metadata": {
        "colab": {
          "base_uri": "https://localhost:8080/",
          "height": 472
        },
        "id": "GShLboc1lG44",
        "outputId": "88a0acc4-8c04-481f-c28c-3e586a52625c"
      },
      "execution_count": 5,
      "outputs": [
        {
          "output_type": "display_data",
          "data": {
            "text/plain": [
              "<Figure size 640x480 with 1 Axes>"
            ],
            "image/png": "[encoded data removed]"
          },
          "metadata": {}
        }
      ]
    },
    {
      "cell_type": "code",
      "source": [
        "#To remove outliers in my dataset\n",
        "covid_ori_df.AGE.plot( kind= 'box' )\n"
      ],
      "metadata": {
        "colab": {
          "base_uri": "https://localhost:8080/",
          "height": 447
        },
        "id": "NoCo0ZSWfP5P",
        "outputId": "5458b9cc-f50f-44f9-bffc-a83682c920f6"
      },
      "execution_count": 6,
      "outputs": [
        {
          "output_type": "execute_result",
          "data": {
            "text/plain": [
              "<Axes: >"
            ]
          },
          "metadata": {},
          "execution_count": 6
        },
        {
          "output_type": "display_data",
          "data": {
            "text/plain": [
              "<Figure size 640x480 with 1 Axes>"
            ],
            "image/png": "[encoded data removed]"
          },
          "metadata": {}
        }
      ]
    },
    {
      "cell_type": "code",
      "source": [
        "Q1 = covid_ori_df['AGE'].quantile(0.25)\n",
        "Q3 = covid_ori_df['AGE'].quantile(0.75)\n",
        "IQR = Q3 - Q1\n",
        "l_bound = Q1 - (1.5 * IQR)\n",
        "u_bound = Q3 + (1.5 * IQR)\n",
        "\n",
        "covid_removeOutlier_df = covid_ori_df[(covid_ori_df['AGE'] >= l_bound) & (covid_ori_df['AGE'] <= u_bound)]\n",
        "print( covid_ori_df.AGE.max(), covid_removeOutlier_df.AGE.max() )\n",
        "covid_removeOutlier_df.AGE.plot( kind= 'box' )"
      ],
      "metadata": {
        "colab": {
          "base_uri": "https://localhost:8080/",
          "height": 465
        },
        "id": "Zyk_jpA8fSru",
        "outputId": "17d89e29-26dd-417f-cebf-791f2f8a8566"
      },
      "execution_count": 7,
      "outputs": [
        {
          "output_type": "stream",
          "name": "stdout",
          "text": [
            "121 87\n"
          ]
        },
        {
          "output_type": "execute_result",
          "data": {
            "text/plain": [
              "<Axes: >"
            ]
          },
          "metadata": {},
          "execution_count": 7
        },
        {
          "output_type": "display_data",
          "data": {
            "text/plain": [
              "<Figure size 640x480 with 1 Axes>"
            ],
            "image/png": "[encoded data removed]"
          },
          "metadata": {}
        }
      ]
    },
    {
      "cell_type": "code",
      "source": [
        "from pandas.compat.numpy.function import CompatValidator\n",
        "#selecting dependent and independent variable as x and y after imputing missing values in balanced equaltion with random under sampler\n",
        "x = covid_ori_df.drop( \"Death\", axis= 1 )\n",
        "y = covid_ori_df[\"Death\"]\n",
        "y= y.astype('int') \n",
        "\n",
        "random_underS = RandomUnderSampler(random_state=0)\n",
        "x, y = random_underS.fit_resample(x,y)\n",
        "\n",
        "x_train, x_test, y_train, y_test= train_test_split( x, y, test_size= 0.3, random_state= 0 )\n",
        "\n",
        "print( '\\n-------------------------------------------------------------------------------------' )\n",
        "print( '----------------------------- Logistic Regression ---------------------------' )\n",
        "## logistic Regression\n",
        "\n",
        "LogiReg = LogisticRegression()\n",
        "LogiReg.fit(x_train, y_train)\n",
        "predict_LR = LogiReg.predict(x_test)\n",
        "logiR_score = accuracy_score(y_test, predict_LR)\n",
        "print(classification_report(y_test,predict_LR))\n",
        "print(\"The percentage of accuracy of Logistic Regression is: \", logiR_score)\n",
        "print('Test Score: ', LogiReg.score(x_test, y_test))\n",
        "print(\"Matthewus corr coefficient:\", sklearn.metrics.matthews_corrcoef( y_test, predict_LR ))\n",
        "print(\"Brier_score is:\", sklearn.metrics.brier_score_loss( y_test, predict_LR ))\n",
        "\n",
        "print( '\\n-------------------------------------------------------------------------------------' )\n",
        "print( '----------------------------- Random Forest ---------------------------' )\n",
        "\n",
        "## Random Forest\n",
        "Random_Forest = RandomForestClassifier(max_depth=6,\n",
        "                                      max_features=None,\n",
        "                                      max_leaf_nodes=9,\n",
        "                                      n_estimators=100)\n",
        "Random_Forest.fit(x_train, y_train)\n",
        "predicted_RF = Random_Forest.predict(x_test)\n",
        "RF_score = accuracy_score(y_test, predicted_RF)\n",
        "print(classification_report(y_test,predicted_RF))\n",
        "print('The percentage of accuracy of Random Forest (on test data) is: ', RF_score )\n",
        "print(\"Matthewus corr coefficient:\", sklearn.metrics.matthews_corrcoef( y_test, predicted_RF ))\n",
        "print(\"Brier_score is:\", sklearn.metrics.brier_score_loss( y_test, predicted_RF ))\n",
        "\n",
        "print( '\\n-------------------------------------------------------------------------------------' )\n",
        "print( '----------------------------- Naive Bayes ---------------------------' )\n",
        "\n",
        "## Naive Bayes\n",
        "Nbayes = BernoulliNB()\n",
        "Nbayes.fit(x_train, y_train)\n",
        "predicted_NB = Nbayes.predict(x_test)\n",
        "NB_score = accuracy_score(y_test, predicted_NB)\n",
        "print(classification_report(y_test,predicted_NB))\n",
        "print(\"The percentage of accuracy of Naive-Bayes (on test data) is:\", NB_score)\n",
        "print(\"Matthewus corr coefficient:\", sklearn.metrics.matthews_corrcoef( y_test, predicted_NB ))\n",
        "print(\"Brier_score is:\", sklearn.metrics.brier_score_loss( y_test, predicted_NB ))\n",
        "\n",
        "print( '\\n-------------------------------------------------------------------------------------' )\n",
        "print( '----------------------------- Decision Tree ---------------------------' )\n",
        "\n",
        "## Decision Tree\n",
        "Decision_T =  DecisionTreeClassifier()\n",
        "Decision_T.fit(x_train, y_train)\n",
        "predicted_DT = Decision_T.predict(x_test)\n",
        "DT_score = accuracy_score(y_test, predicted_DT)\n",
        "print(classification_report(y_test,predicted_DT))\n",
        "print(\"The percentage of accuracy of Decision Tree is (on test data) :\", DT_score)\n",
        "print(\"Matthewus corr coefficient:\", sklearn.metrics.matthews_corrcoef( y_test, predicted_DT ))\n",
        "print(\"Brier_score is:\", sklearn.metrics.brier_score_loss( y_test, predicted_DT ))\n"
      ],
      "metadata": {
        "colab": {
          "base_uri": "https://localhost:8080/"
        },
        "id": "GuHaxgmcopmL",
        "outputId": "6ab72522-0d39-4b19-f251-0430102499b0"
      },
      "execution_count": 8,
      "outputs": [
        {
          "output_type": "stream",
          "name": "stdout",
          "text": [
            "\n",
            "-------------------------------------------------------------------------------------\n",
            "----------------------------- Logistic Regression ---------------------------\n",
            "              precision    recall  f1-score   support\n",
            "\n",
            "           0       0.91      0.90      0.90     22803\n",
            "           1       0.90      0.91      0.91     23363\n",
            "\n",
            "    accuracy                           0.91     46166\n",
            "   macro avg       0.91      0.91      0.91     46166\n",
            "weighted avg       0.91      0.91      0.91     46166\n",
            "\n",
            "The percentage of accuracy of Logistic Regression is:  0.9050816618290517\n",
            "Test Score:  0.9050816618290517\n",
            "Matthewus corr coefficient: 0.8101574216599763\n",
            "Brier_score is: 0.09491833817094832\n",
            "\n",
            "-------------------------------------------------------------------------------------\n",
            "----------------------------- Random Forest ---------------------------\n",
            "              precision    recall  f1-score   support\n",
            "\n",
            "           0       0.92      0.89      0.90     22803\n",
            "           1       0.90      0.92      0.91     23363\n",
            "\n",
            "    accuracy                           0.91     46166\n",
            "   macro avg       0.91      0.91      0.91     46166\n",
            "weighted avg       0.91      0.91      0.91     46166\n",
            "\n",
            "The percentage of accuracy of Random Forest (on test data) is:  0.9069228436511718\n",
            "Matthewus corr coefficient: 0.8141197364808856\n",
            "Brier_score is: 0.09307715634882814\n",
            "\n",
            "-------------------------------------------------------------------------------------\n",
            "----------------------------- Naive Bayes ---------------------------\n",
            "              precision    recall  f1-score   support\n",
            "\n",
            "           0       0.88      0.89      0.89     22803\n",
            "           1       0.90      0.88      0.89     23363\n",
            "\n",
            "    accuracy                           0.89     46166\n",
            "   macro avg       0.89      0.89      0.89     46166\n",
            "weighted avg       0.89      0.89      0.89     46166\n",
            "\n",
            "The percentage of accuracy of Naive-Bayes (on test data) is: 0.8884243815795174\n",
            "Matthewus corr coefficient: 0.7769469109664158\n",
            "Brier_score is: 0.11157561842048261\n",
            "\n",
            "-------------------------------------------------------------------------------------\n",
            "----------------------------- Decision Tree ---------------------------\n",
            "              precision    recall  f1-score   support\n",
            "\n",
            "           0       0.87      0.89      0.88     22803\n",
            "           1       0.89      0.87      0.88     23363\n",
            "\n",
            "    accuracy                           0.88     46166\n",
            "   macro avg       0.88      0.88      0.88     46166\n",
            "weighted avg       0.88      0.88      0.88     46166\n",
            "\n",
            "The percentage of accuracy of Decision Tree is (on test data) : 0.8804964692630941\n",
            "Matthewus corr coefficient: 0.7611328961017726\n",
            "Brier_score is: 0.11950353073690595\n"
          ]
        }
      ]
    },
    {
      "cell_type": "markdown",
      "source": [
        "Box-Cox transformation of Numerical Data Age"
      ],
      "metadata": {
        "id": "TCLoxMGivRbE"
      }
    },
    {
      "cell_type": "code",
      "source": [
        "from scipy import stats\n",
        "import numpy as np\n",
        "from scipy.special import boxcox1p\n",
        "import seaborn as sns\n",
        "from scipy import stats\n",
        "data_age_num = covid_ori_df['AGE'] \n",
        "positivedata = data_age_num[data_age_num > 0]\n",
        "sns.histplot(positivedata, kde=True)"
      ],
      "metadata": {
        "colab": {
          "base_uri": "https://localhost:8080/",
          "height": 466
        },
        "id": "ibDD3gE6q8C7",
        "outputId": "866148f2-052b-4884-99d4-b0af4793a175"
      },
      "execution_count": 12,
      "outputs": [
        {
          "output_type": "execute_result",
          "data": {
            "text/plain": [
              "<Axes: xlabel='AGE', ylabel='Count'>"
            ]
          },
          "metadata": {},
          "execution_count": 12
        },
        {
          "output_type": "display_data",
          "data": {
            "text/plain": [
              "<Figure size 640x480 with 1 Axes>"
            ],
            "image/png": "[encoded data removed]"
          },
          "metadata": {}
        }
      ]
    },
    {
      "cell_type": "code",
      "source": [
        "# Applying the Box-Cox transformation to convert into normal distribution\n",
        "data_boxcox, lam = stats.boxcox(positivedata)\n",
        "# Plotting the transformed data distribution\n",
        "sns.histplot(data_boxcox, kde=True)"
      ],
      "metadata": {
        "colab": {
          "base_uri": "https://localhost:8080/",
          "height": 465
        },
        "id": "HLo-M_MhzhtZ",
        "outputId": "f5020a55-c5a8-4616-b0fd-b5336f331ef6"
      },
      "execution_count": 13,
      "outputs": [
        {
          "output_type": "execute_result",
          "data": {
            "text/plain": [
              "<Axes: ylabel='Count'>"
            ]
          },
          "metadata": {},
          "execution_count": 13
        },
        {
          "output_type": "display_data",
          "data": {
            "text/plain": [
              "<Figure size 640x480 with 1 Axes>"
            ],
            "image/png": "[encoded data removed]"
          },
          "metadata": {}
        }
      ]
    },
    {
      "cell_type": "markdown",
      "source": [
        "Hyperparameter Tuning to get the best parameters for random forest by using grid search"
      ],
      "metadata": {
        "id": "28d006lzY5X_"
      }
    },
    {
      "cell_type": "code",
      "source": [
        "\n",
        "from sklearn.metrics import classification_report\n",
        "from sklearn.model_selection import train_test_split\n",
        "import pandas as pd\n",
        "from sklearn.ensemble import RandomForestClassifier\n",
        "from sklearn.model_selection import GridSearchCV,\\\n",
        "RandomizedSearchCV\n",
        "\n",
        "X = covid_removeOutlier_df.drop( \"Death\", axis= 1 )\n",
        "y = covid_removeOutlier_df [\"Death\" ]\n",
        "y= y.astype('int') \n",
        "\n",
        "  \n",
        "X_train, X_test,\\\n",
        "    y_train, y_test = train_test_split(X, y,\n",
        "                                       test_size=0.30,\n",
        "                                       random_state=42)\n",
        "X_train.shape, X_test.shape"
      ],
      "metadata": {
        "colab": {
          "base_uri": "https://localhost:8080/"
        },
        "id": "JiH9QVUYm0mF",
        "outputId": "12f339fd-853d-42a6-e60d-35f4a22a81e5"
      },
      "execution_count": null,
      "outputs": [
        {
          "output_type": "execute_result",
          "data": {
            "text/plain": [
              "((730296, 19), (312984, 19))"
            ]
          },
          "metadata": {},
          "execution_count": 64
        }
      ]
    },
    {
      "cell_type": "code",
      "source": [
        "model = RandomForestClassifier()\n",
        "model.fit(X_train, y_train)\n",
        "  \n",
        "# predict the mode\n",
        "y_pred = model.predict(X_test)\n",
        "  \n",
        "# performance evaluatio metrics\n",
        "print(classification_report(y_pred, y_test))"
      ],
      "metadata": {
        "colab": {
          "base_uri": "https://localhost:8080/"
        },
        "id": "qHuXbduJnQuC",
        "outputId": "cb3e3d33-a4e8-42b2-bb02-7bda36f9b94d"
      },
      "execution_count": null,
      "outputs": [
        {
          "output_type": "stream",
          "name": "stdout",
          "text": [
            "              precision    recall  f1-score   support\n",
            "\n",
            "           0       0.98      0.96      0.97    295707\n",
            "           1       0.50      0.64      0.56     17277\n",
            "\n",
            "    accuracy                           0.94    312984\n",
            "   macro avg       0.74      0.80      0.76    312984\n",
            "weighted avg       0.95      0.94      0.95    312984\n",
            "\n"
          ]
        }
      ]
    },
    {
      "cell_type": "code",
      "source": [
        "#param_grid = {\n",
        "    #'n_estimators': [25, 50, 100, 150],\n",
        "    #'max_features': ['sqrt', 'log2', None],\n",
        "    #'max_depth': [3, 6, 9],\n",
        "   # 'max_leaf_nodes': [3, 6, 9],\n",
        "#}\n",
        "\n",
        "#grid_search = GridSearchCV(RandomForestClassifier(),\n",
        "                           #param_grid=param_grid)\n",
        "#grid_search.fit(X_train, y_train)\n",
        "#print(grid_search.best_estimator_)"
      ],
      "metadata": {
        "colab": {
          "base_uri": "https://localhost:8080/"
        },
        "id": "MbP1fmizn6VW",
        "outputId": "05f15c32-8071-405f-dcc0-62a3862a2d09"
      },
      "execution_count": null,
      "outputs": [
        {
          "output_type": "stream",
          "name": "stdout",
          "text": [
            "RandomForestClassifier(max_depth=6, max_features=None, max_leaf_nodes=9)\n"
          ]
        }
      ]
    },
    {
      "cell_type": "code",
      "source": [
        "#the above model took 3 hrsand 26 mins\n",
        "model_random = RandomForestClassifier(max_depth=6,\n",
        "                                      max_features=None,\n",
        "                                      max_leaf_nodes=9,\n",
        "                                      n_estimators=100)\n",
        "model_random.fit(X_train, y_train)\n",
        "y_pred_rand = model.predict(X_test)\n",
        "print(classification_report(y_pred_rand, y_test))"
      ],
      "metadata": {
        "colab": {
          "base_uri": "https://localhost:8080/"
        },
        "id": "xEGrCQ4GXqMk",
        "outputId": "0b02b0b6-8c28-4442-9484-8fcf5bb93715"
      },
      "execution_count": null,
      "outputs": [
        {
          "output_type": "stream",
          "name": "stdout",
          "text": [
            "              precision    recall  f1-score   support\n",
            "\n",
            "           0       0.98      0.96      0.97    295707\n",
            "           1       0.50      0.64      0.56     17277\n",
            "\n",
            "    accuracy                           0.94    312984\n",
            "   macro avg       0.74      0.80      0.76    312984\n",
            "weighted avg       0.95      0.94      0.95    312984\n",
            "\n"
          ]
        }
      ]
    },
    {
      "cell_type": "markdown",
      "source": [
        "K- Fold Cross Validation"
      ],
      "metadata": {
        "id": "BlkdcQOasJ7o"
      }
    },
    {
      "cell_type": "code",
      "source": [
        "#selecting dependent and independent variable as x and y\n",
        "x = covid_removeOutlier_df.drop( \"Death\", axis= 1 )\n",
        "y = covid_removeOutlier_df [\"Death\" ]\n",
        "y= y.astype('int') \n",
        "k = 5\n",
        "x_train, x_test, y_train, y_test= train_test_split( x, y, test_size= 0.3, random_state= 0 )\n",
        "import warnings\n",
        "warnings.filterwarnings(\"ignore\")\n",
        "\n",
        "\n",
        "\n",
        "print( '\\n-------------------------------------------------------------------------------------' )\n",
        "print( '----------------------------- Logistic Regression ---------------------------' )\n",
        "\n",
        "## logistic Regression\n",
        "\n",
        "LogiReg = LogisticRegression()\n",
        "# Calculate the cross-validation score\n",
        "scores = sklearn.model_selection.cross_val_score( LogiReg, x, y, cv= k )\n",
        "print( \"Cross-validation scores:\", scores )\n",
        "print( \"Mean accuracy:\", np.mean(scores) )\n",
        "print( \"Standard deviation:\", np.std(scores) )\n",
        "\n",
        "\n",
        "print( '\\n-------------------------------------------------------------------------------------' )\n",
        "print( '----------------------------- Random Forest ---------------------------' )\n",
        "\n",
        "## Random Forest\n",
        "Random_Forest = RandomForestClassifier()\n",
        "# Calculate the cross-validation score\n",
        "scores = sklearn.model_selection.cross_val_score( Random_Forest, x, y, cv= k )\n",
        "print( \"Cross-validation scores:\", scores )\n",
        "print( \"Mean accuracy:\", np.mean(scores) )\n",
        "print( \"Standard deviation:\", np.std(scores) )\n",
        "\n",
        "\n",
        "print( '\\n-------------------------------------------------------------------------------------' )\n",
        "print( '----------------------------- Naive Bayes ---------------------------' )\n",
        "\n",
        "## Naive Bayes\n",
        "Nbayes = BernoulliNB()\n",
        "# Calculate the cross-validation score\n",
        "scores = sklearn.model_selection.cross_val_score( Nbayes, x, y, cv= k )\n",
        "print( \"Cross-validation scores:\", scores )\n",
        "print( \"Mean accuracy:\", np.mean(scores) )\n",
        "print( \"Standard deviation:\", np.std(scores) )\n",
        "\n",
        "print( '\\n-------------------------------------------------------------------------------------' )\n",
        "print( '----------------------------- Decision Tree ---------------------------' )\n",
        "\n",
        "## Decision Tree\n",
        "Decision_T =  DecisionTreeClassifier()\n",
        "# Calculate the cross-validation score\n",
        "scores = sklearn.model_selection.cross_val_score( Decision_T, x, y, cv= k )\n",
        "print( \"Cross-validation scores:\", scores )\n",
        "print( \"Mean accuracy:\", np.mean(scores) )\n",
        "print( \"Standard deviation:\", np.std(scores) )\n",
        "\n",
        "\n",
        "\n"
      ],
      "metadata": {
        "colab": {
          "base_uri": "https://localhost:8080/"
        },
        "id": "j4jc1i4BsNSk",
        "outputId": "dbba466e-8195-4f14-ef30-44fa877f5579"
      },
      "execution_count": null,
      "outputs": [
        {
          "output_type": "stream",
          "name": "stdout",
          "text": [
            "\n",
            "-------------------------------------------------------------------------------------\n",
            "----------------------------- Logistic Regression ---------------------------\n",
            "Cross-validation scores: [0.92486197 0.93253968 0.93732267 0.95280749 0.9521557 ]\n",
            "Mean accuracy: 0.9399375047925773\n",
            "Standard deviation: 0.010988699972189564\n",
            "\n",
            "-------------------------------------------------------------------------------------\n",
            "----------------------------- Random Forest ---------------------------\n",
            "Cross-validation scores: [0.91355628 0.92126275 0.92908903 0.94887279 0.9511205 ]\n",
            "Mean accuracy: 0.932780269917951\n",
            "Standard deviation: 0.014907538286723218\n",
            "\n",
            "-------------------------------------------------------------------------------------\n",
            "----------------------------- Naive Bayes ---------------------------\n",
            "Cross-validation scores: [0.88139809 0.88711564 0.89833985 0.95759528 0.96703665]\n",
            "Mean accuracy: 0.9182971014492753\n",
            "Standard deviation: 0.036474657421258654\n",
            "\n",
            "-------------------------------------------------------------------------------------\n",
            "----------------------------- Decision Tree ---------------------------\n",
            "Cross-validation scores: [0.91462503 0.92029944 0.9279436  0.94625604 0.94869067]\n",
            "Mean accuracy: 0.9315629552948395\n",
            "Standard deviation: 0.013682873165186137\n"
          ]
        }
      ]
    }
  ]
}