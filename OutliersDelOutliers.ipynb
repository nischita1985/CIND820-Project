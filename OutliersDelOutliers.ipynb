{
  "nbformat": 4,
  "nbformat_minor": 0,
  "metadata": {
    "colab": {
      "provenance": []
    },
    "kernelspec": {
      "name": "python3",
      "display_name": "Python 3"
    },
    "language_info": {
      "name": "python"
    }
  },
  "cells": [
    {
      "cell_type": "markdown",
      "source": [
        "Covid-19 Dataset was downloaded from: https://www.kaggle.com/datasets/meirnizri/covid19-dataset"
      ],
      "metadata": {
        "id": "7exTDf6GOiht"
      }
    },
    {
      "cell_type": "code",
      "source": [
        "#libraries\n",
        "import pandas as pd\n",
        "import plotly.express as px\n",
        "import numpy as np\n",
        "import matplotlib.pyplot as plt\n",
        "import matplotlib\n",
        "\n",
        "import missingno as msno\n",
        "\n",
        "import sklearn\n",
        "from sklearn.metrics import accuracy_score\n",
        "from sklearn.metrics import classification_report\n",
        "import numpy as np\n",
        "from sklearn.linear_model import LogisticRegression\n",
        "import scipy.optimize as opt\n",
        "import matplotlib.pyplot as plt\n",
        "%matplotlib inline \n",
        "from sklearn.model_selection import train_test_split\n",
        "\n",
        "#Libraries for Forward Selection\n",
        "import joblib\n",
        "# from mlxtend.feature_selection import SequentialFeatureSelector as SFS\n",
        "from sklearn.linear_model import LinearRegression\n",
        "import pandas as pd\n",
        "import numpy as np\n",
        "\n",
        "from sklearn.metrics import classification_report\n",
        "from sklearn.ensemble import RandomForestClassifier\n",
        "\n",
        "from sklearn.naive_bayes import BernoulliNB\n",
        "from sklearn import tree\n",
        "from sklearn.tree import DecisionTreeClassifier\n",
        "\n",
        "\n",
        "from scipy import stats\n",
        "import os\n",
        "import seaborn as sns\n",
        "from imblearn.under_sampling import RandomUnderSampler\n",
        "\n",
        "#!pip install mlxtend\n",
        "import joblib\n",
        "import sys\n",
        "sys.modules['sklearn.externals.joblib'] = joblib\n",
        "from mlxtend.feature_selection import SequentialFeatureSelector as SFS\n",
        "\n",
        "from sklearn.model_selection import train_test_split \n",
        "from sklearn.linear_model import LinearRegression\n",
        "\n",
        "import warnings\n",
        "warnings.filterwarnings(\"ignore\")"
      ],
      "metadata": {
        "id": "VgrF4yjBOllT"
      },
      "execution_count": 1,
      "outputs": []
    },
    {
      "cell_type": "code",
      "source": [
        "file = ('/content/Covid _19 _Dataset.csv')  \n",
        "#covid_ori_df is the original data\n",
        "covid_ori_df = pd.read_csv(file)\n",
        "covid_ori_df.shape\n",
        "#covidData = covid_ori_df.copy( deep= True )"
      ],
      "metadata": {
        "colab": {
          "base_uri": "https://localhost:8080/"
        },
        "id": "1OF3yqjZOpJM",
        "outputId": "d21859f2-f59e-4ff4-f95d-487a02819e70"
      },
      "execution_count": 2,
      "outputs": [
        {
          "output_type": "execute_result",
          "data": {
            "text/plain": [
              "(1048575, 21)"
            ]
          },
          "metadata": {},
          "execution_count": 2
        }
      ]
    },
    {
      "cell_type": "code",
      "source": [
        "# converting missing data as nan in original data\n",
        "\n",
        "#replace CLASIFFICATION_FINAL with 1,2,3 if patient is in different stages of Covid Exposure and 0 if patient is not a carrier of Covid\n",
        "covid_ori_df.loc[covid_ori_df['CLASIFFICATION_FINAL']>3, 'CLASIFFICATION_FINAL'] = 0\n",
        "\n",
        "# replace every column except CLASIFFICATION_FINAL with 97,98 and 99 with nan values and value 1 which is Yes nad 2 which is no is changed to 0\n",
        "replaceMap_dict = { 1:1, 2:0, 97:np.nan, 98:np.nan, 99:np.nan, '9999-99-99':0 }\n",
        "covidData_noClassification = covid_ori_df.drop(columns = 'CLASIFFICATION_FINAL').replace( replaceMap_dict )\n",
        "\n",
        "#concat for classification_final column as it was dropped in above step\n",
        "covid_ori_df = pd.concat(  [ covidData_noClassification, covid_ori_df['CLASIFFICATION_FINAL'] ], axis= 'columns'  )\n",
        "\n",
        "# changing DATE_DIED column having an actual Date to 1 which is the person has Died Due to covid\n",
        "covid_ori_df.loc[ covid_ori_df['DATE_DIED'] !=0, 'DATE_DIED' ] = 1\n",
        "covid_ori_df.DATE_DIED.unique()"
      ],
      "metadata": {
        "colab": {
          "base_uri": "https://localhost:8080/"
        },
        "id": "8uMBxFCOOrlT",
        "outputId": "acdfd52b-e734-4553-9c7f-0a10ecc8e683"
      },
      "execution_count": 3,
      "outputs": [
        {
          "output_type": "execute_result",
          "data": {
            "text/plain": [
              "array([1, 0], dtype=object)"
            ]
          },
          "metadata": {},
          "execution_count": 3
        }
      ]
    },
    {
      "cell_type": "code",
      "source": [
        "# impute missing value in original data\n",
        "covid_ori_df.columns\n",
        "#dropping 'MEDICAL_UNIT' which has irrelevant data and it does not explain my research question\n",
        "covid_ori_df.drop( columns= 'MEDICAL_UNIT', inplace= True )\n",
        "#numerical column\n",
        "num_col_ls = [ 'CLASIFFICATION_FINAL','AGE' ] \n",
        "cat_col_ls = covid_ori_df.drop( columns= num_col_ls ).columns\n",
        "\n",
        "# impute missing values of categorical column to their mode\n",
        "for col in cat_col_ls:\n",
        "    covid_ori_df[col].fillna(covid_ori_df[col].mode()[0], inplace=True)\n",
        "\n",
        "# impute numerical col: \"AGE\" to their mean and classification doesn't have missing values\n",
        "mean_value = covid_ori_df['AGE'].mean()\n",
        "covid_ori_df['AGE'].fillna(mean_value, inplace=True)\n",
        "\n",
        "covid_ori_df['Death'] = covid_ori_df['DATE_DIED']\n",
        "covid_ori_df.drop( columns= 'DATE_DIED', inplace= True )\n",
        "\n",
        "# convert all dtypes into int\n",
        "covid_ori_df = covid_ori_df.astype(np.int8)\n",
        "#covid_ori_df.dtypes\n",
        "\n",
        "#  label encoding for CLASIFFICATION_FINAL since it is the ordinal variable\n",
        "label_encoder = sklearn.preprocessing.LabelEncoder()\n",
        "covid_ori_df['CLASIFFICATION_FINAL'] = label_encoder.fit_transform( covid_ori_df['CLASIFFICATION_FINAL'] )\n",
        "#covid_ori_df\n",
        "\n",
        "# one hot encoding for categorical binary nominal variable\n",
        "miss_cat_colm = [ 'PATIENT_TYPE','INTUBED', 'PREGNANT', 'ICU', 'USMER', 'SEX', 'Death', 'PNEUMONIA', 'DIABETES', 'COPD', 'ASTHMA', 'INMSUPR', 'HIPERTENSION', 'OTHER_DISEASE', 'CARDIOVASCULAR', 'OBESITY', 'RENAL_CHRONIC', 'TOBACCO' ]\n",
        "OHEncoder = sklearn.preprocessing.OneHotEncoder( sparse= False, drop= 'first', dtype= np.int8 )\n",
        "OHEncoded_np = OHEncoder.fit_transform( covid_ori_df[miss_cat_colm] )\n",
        "OHEncoded_df = pd.DataFrame( OHEncoded_np, index= covid_ori_df.index, columns= OHEncoder.get_feature_names_out (miss_cat_colm) )\n",
        "covid_ori_df = covid_ori_df.drop( miss_cat_colm, axis= 1 )\\\n",
        "                .merge( OHEncoded_df, left_index= True, right_index= True )\n",
        "cols_to_rename = covid_ori_df.columns[  covid_ori_df.columns.str.endswith('_1') ]\n",
        "covid_ori_df = covid_ori_df.rename(  columns={col: col.replace('_1', '')  for col in cols_to_rename}  )\n",
        "cols_to_rename = covid_ori_df.columns[  covid_ori_df.columns.str.endswith('_1') ]\n",
        "covid_ori_df = covid_ori_df.rename(  columns={col: col.replace('_1', '')  for col in cols_to_rename}  )\n",
        "#covid_ori_df"
      ],
      "metadata": {
        "id": "nmcTXcjAO4hT"
      },
      "execution_count": 4,
      "outputs": []
    },
    {
      "cell_type": "markdown",
      "source": [
        "Comparing the efficiency of ML without removing outliers"
      ],
      "metadata": {
        "id": "9AaLfoZ7P-EU"
      }
    },
    {
      "cell_type": "code",
      "source": [
        "from pandas.compat.numpy.function import CompatValidator\n",
        "#selecting dependent and independent variable as x and y after imputing missing values in balanced equaltion with random under sampler\n",
        "x = covid_ori_df.drop( \"Death\", axis= 1 )\n",
        "y = covid_ori_df[\"Death\"]\n",
        "y= y.astype('int') \n",
        "\n",
        "random_underS = RandomUnderSampler(random_state=0)\n",
        "x, y = random_underS.fit_resample(x,y)\n",
        "\n",
        "x_train, x_test, y_train, y_test= train_test_split( x, y, test_size= 0.3, random_state= 0 )\n",
        "\n",
        "print( '\\n-------------------------------------------------------------------------------------' )\n",
        "print( '----------------------------- Logistic Regression ---------------------------' )\n",
        "## logistic Regression\n",
        "\n",
        "LogiReg = LogisticRegression()\n",
        "LogiReg.fit(x_train, y_train)\n",
        "predict_LR = LogiReg.predict(x_test)\n",
        "logiR_score = accuracy_score(y_test, predict_LR)\n",
        "print(classification_report(y_test,predict_LR))\n",
        "print(\"The percentage of accuracy of Logistic Regression is: \", logiR_score)\n",
        "print('Test Score: ', LogiReg.score(x_test, y_test))\n",
        "print(\"Matthewus corr coefficient:\", sklearn.metrics.matthews_corrcoef( y_test, predict_LR ))\n",
        "print(\"Brier_score is:\", sklearn.metrics.brier_score_loss( y_test, predict_LR ))\n",
        "\n",
        "print( '\\n-------------------------------------------------------------------------------------' )\n",
        "print( '----------------------------- Random Forest ---------------------------' )\n",
        "\n",
        "## Random Forest\n",
        "Random_Forest = RandomForestClassifier(  max_depth=6,\n",
        "                                        max_features=None,\n",
        "                                        max_leaf_nodes=9,\n",
        "                                        n_estimators=100 )\n",
        "Random_Forest.fit(x_train, y_train)\n",
        "predicted_RF = Random_Forest.predict(x_test)\n",
        "RF_score = accuracy_score(y_test, predicted_RF)\n",
        "print(classification_report(y_test,predicted_RF))\n",
        "print('The percentage of accuracy of Random Forest (on test data) is: ', RF_score )\n",
        "print(\"Matthewus corr coefficient:\", sklearn.metrics.matthews_corrcoef( y_test, predicted_RF ))\n",
        "print(\"Brier_score is:\", sklearn.metrics.brier_score_loss( y_test, predicted_RF ))\n",
        "\n",
        "print( '\\n-------------------------------------------------------------------------------------' )\n",
        "print( '----------------------------- Naive Bayes ---------------------------' )\n",
        "\n",
        "## Naive Bayes\n",
        "Nbayes = BernoulliNB()\n",
        "Nbayes.fit(x_train, y_train)\n",
        "predicted_NB = Nbayes.predict(x_test)\n",
        "NB_score = accuracy_score(y_test, predicted_NB)\n",
        "print(classification_report(y_test,predicted_NB))\n",
        "print(\"The percentage of accuracy of Naive-Bayes (on test data) is:\", NB_score)\n",
        "print(\"Matthewus corr coefficient:\", sklearn.metrics.matthews_corrcoef( y_test, predicted_NB ))\n",
        "print(\"Brier_score is:\", sklearn.metrics.brier_score_loss( y_test, predicted_NB ))\n",
        "\n",
        "print( '\\n-------------------------------------------------------------------------------------' )\n",
        "print( '----------------------------- Decision Tree ---------------------------' )\n",
        "\n",
        "## Decision Tree\n",
        "Decision_T =  DecisionTreeClassifier()\n",
        "Decision_T.fit(x_train, y_train)\n",
        "predicted_DT = Decision_T.predict(x_test)\n",
        "DT_score = accuracy_score(y_test, predicted_DT)\n",
        "print(classification_report(y_test,predicted_DT))\n",
        "print(\"The percentage of accuracy of Decision Tree is (on test data) :\", DT_score)\n",
        "print(\"Matthewus corr coefficient:\", sklearn.metrics.matthews_corrcoef( y_test, predicted_DT ))\n",
        "print(\"Brier_score is:\", sklearn.metrics.brier_score_loss( y_test, predicted_DT ))"
      ],
      "metadata": {
        "colab": {
          "base_uri": "https://localhost:8080/"
        },
        "id": "Hh7AtOfLPCfE",
        "outputId": "81272e3b-a906-4668-d8f4-1c1c9dedc8d1"
      },
      "execution_count": 5,
      "outputs": [
        {
          "output_type": "stream",
          "name": "stdout",
          "text": [
            "\n",
            "-------------------------------------------------------------------------------------\n",
            "----------------------------- Logistic Regression ---------------------------\n",
            "              precision    recall  f1-score   support\n",
            "\n",
            "           0       0.91      0.90      0.90     22803\n",
            "           1       0.90      0.91      0.91     23363\n",
            "\n",
            "    accuracy                           0.91     46166\n",
            "   macro avg       0.91      0.91      0.91     46166\n",
            "weighted avg       0.91      0.91      0.91     46166\n",
            "\n",
            "The percentage of accuracy of Logistic Regression is:  0.9050816618290517\n",
            "Test Score:  0.9050816618290517\n",
            "Matthewus corr coefficient: 0.8101574216599763\n",
            "Brier_score is: 0.09491833817094832\n",
            "\n",
            "-------------------------------------------------------------------------------------\n",
            "----------------------------- Random Forest ---------------------------\n",
            "              precision    recall  f1-score   support\n",
            "\n",
            "           0       0.92      0.89      0.90     22803\n",
            "           1       0.90      0.92      0.91     23363\n",
            "\n",
            "    accuracy                           0.91     46166\n",
            "   macro avg       0.91      0.91      0.91     46166\n",
            "weighted avg       0.91      0.91      0.91     46166\n",
            "\n",
            "The percentage of accuracy of Random Forest (on test data) is:  0.9064246415110687\n",
            "Matthewus corr coefficient: 0.8130543427306286\n",
            "Brier_score is: 0.09357535848893125\n",
            "\n",
            "-------------------------------------------------------------------------------------\n",
            "----------------------------- Naive Bayes ---------------------------\n",
            "              precision    recall  f1-score   support\n",
            "\n",
            "           0       0.88      0.89      0.89     22803\n",
            "           1       0.90      0.88      0.89     23363\n",
            "\n",
            "    accuracy                           0.89     46166\n",
            "   macro avg       0.89      0.89      0.89     46166\n",
            "weighted avg       0.89      0.89      0.89     46166\n",
            "\n",
            "The percentage of accuracy of Naive-Bayes (on test data) is: 0.8884243815795174\n",
            "Matthewus corr coefficient: 0.7769469109664158\n",
            "Brier_score is: 0.11157561842048261\n",
            "\n",
            "-------------------------------------------------------------------------------------\n",
            "----------------------------- Decision Tree ---------------------------\n",
            "              precision    recall  f1-score   support\n",
            "\n",
            "           0       0.87      0.89      0.88     22803\n",
            "           1       0.89      0.87      0.88     23363\n",
            "\n",
            "    accuracy                           0.88     46166\n",
            "   macro avg       0.88      0.88      0.88     46166\n",
            "weighted avg       0.88      0.88      0.88     46166\n",
            "\n",
            "The percentage of accuracy of Decision Tree is (on test data) : 0.8806914179266127\n",
            "Matthewus corr coefficient: 0.761499896722071\n",
            "Brier_score is: 0.11930858207338735\n"
          ]
        }
      ]
    },
    {
      "cell_type": "markdown",
      "source": [
        "Removing outliers form my numerical variables"
      ],
      "metadata": {
        "id": "PLGmPL_MQF7g"
      }
    },
    {
      "cell_type": "code",
      "source": [
        "#To remove outliers in my dataset\n",
        "covid_ori_df.AGE.plot( kind= 'box' )"
      ],
      "metadata": {
        "colab": {
          "base_uri": "https://localhost:8080/",
          "height": 447
        },
        "id": "dSNFzGTFPIkb",
        "outputId": "48ee01eb-981c-4979-ebe8-a2a449609d30"
      },
      "execution_count": 6,
      "outputs": [
        {
          "output_type": "execute_result",
          "data": {
            "text/plain": [
              "<Axes: >"
            ]
          },
          "metadata": {},
          "execution_count": 6
        },
        {
          "output_type": "display_data",
          "data": {
            "text/plain": [
              "<Figure size 640x480 with 1 Axes>"
            ],
            "image/png": "[encoded data removed]"
          },
          "metadata": {}
        }
      ]
    },
    {
      "cell_type": "code",
      "source": [
        "Q1 = covid_ori_df['AGE'].quantile(0.25)\n",
        "Q3 = covid_ori_df['AGE'].quantile(0.75)\n",
        "IQR = Q3 - Q1\n",
        "l_bound = Q1 - (1.5 * IQR)\n",
        "u_bound = Q3 + (1.5 * IQR)\n",
        "\n",
        "covid_removeOutlier_df = covid_ori_df[(covid_ori_df['AGE'] >= l_bound) & (covid_ori_df['AGE'] <= u_bound)]\n",
        "print( covid_ori_df.AGE.max(), covid_removeOutlier_df.AGE.max() )\n",
        "covid_removeOutlier_df.AGE.plot( kind= 'box' )"
      ],
      "metadata": {
        "colab": {
          "base_uri": "https://localhost:8080/",
          "height": 465
        },
        "id": "n2c7MLl6PPJz",
        "outputId": "08ee75e7-0e40-4804-c958-8eeb77599a9b"
      },
      "execution_count": 7,
      "outputs": [
        {
          "output_type": "stream",
          "name": "stdout",
          "text": [
            "121 87\n"
          ]
        },
        {
          "output_type": "execute_result",
          "data": {
            "text/plain": [
              "<Axes: >"
            ]
          },
          "metadata": {},
          "execution_count": 7
        },
        {
          "output_type": "display_data",
          "data": {
            "text/plain": [
              "<Figure size 640x480 with 1 Axes>"
            ],
            "image/png": "[encoded data removed]"
          },
          "metadata": {}
        }
      ]
    },
    {
      "cell_type": "markdown",
      "source": [
        "Comparing the effieincy of ML models by removing outliers"
      ],
      "metadata": {
        "id": "R3KWU6kIQQLY"
      }
    },
    {
      "cell_type": "code",
      "source": [
        "#selecting dependent and independent variable as x and y\n",
        "from statistics import mean, stdev\n",
        "from sklearn import preprocessing\n",
        "from sklearn.model_selection import StratifiedKFold\n",
        "from sklearn import linear_model\n",
        "from sklearn import datasets\n",
        "import warnings\n",
        "warnings.filterwarnings(\"ignore\")\n",
        "\n",
        "x = covid_removeOutlier_df.drop( \"Death\", axis= 1 )\n",
        "y = covid_removeOutlier_df [\"Death\" ]\n",
        "y= y.astype('int') \n",
        "\n",
        "random_underS = RandomUnderSampler(random_state=0)\n",
        "x, y = random_underS.fit_resample(x,y)\n",
        "\n",
        "x_train, x_test, y_train, y_test= train_test_split( x, y, test_size= 0.3, random_state= 0 )\n",
        "\n",
        "print( '\\n-------------------------------------------------------------------------------------' )\n",
        "print( '----------------------------- Logistic Regression ---------------------------' )\n",
        "## logistic Regression\n",
        "\n",
        "LogiReg = LogisticRegression()\n",
        "LogiReg.fit(x_train, y_train)\n",
        "predict_LR = LogiReg.predict(x_test)\n",
        "logiR_score = accuracy_score(y_test, predict_LR)\n",
        "print(classification_report(y_test,predict_LR))\n",
        "print(\"The percentage of accuracy of Logistic Regression is: \", logiR_score)\n",
        "print('Test Score: ', LogiReg.score(x_test, y_test))\n",
        "print(\"Matthewus corr coefficient:\", sklearn.metrics.matthews_corrcoef( y_test, predict_LR ))\n",
        "print(\"Brier_score is:\", sklearn.metrics.brier_score_loss( y_test, predict_LR ))\n",
        "\n",
        "print( '\\n-------------------------------------------------------------------------------------' )\n",
        "print( '----------------------------- Random Forest ---------------------------' )\n",
        "\n",
        "## Random Forest\n",
        "Random_Forest = RandomForestClassifier(max_depth=6,\n",
        "                                      max_features=None,\n",
        "                                      max_leaf_nodes=9,\n",
        "                                      n_estimators=100)\n",
        "Random_Forest.fit(x_train, y_train)\n",
        "predicted_RF = Random_Forest.predict(x_test)\n",
        "RF_score = accuracy_score(y_test, predicted_RF)\n",
        "print(classification_report(y_test,predicted_RF))\n",
        "print('The percentage of accuracy of Random Forest (on test data) is: ', RF_score )\n",
        "print(\"Matthewus corr coefficient:\", sklearn.metrics.matthews_corrcoef( y_test, predicted_RF ))\n",
        "print(\"Brier_score is:\", sklearn.metrics.brier_score_loss( y_test, predicted_RF ))\n",
        "\n",
        "print( '\\n-------------------------------------------------------------------------------------' )\n",
        "print( '----------------------------- Naive Bayes ---------------------------' )\n",
        "\n",
        "## Naive Bayes\n",
        "Nbayes = BernoulliNB()\n",
        "Nbayes.fit(x_train, y_train)\n",
        "predicted_NB = Nbayes.predict(x_test)\n",
        "NB_score = accuracy_score(y_test, predicted_NB)\n",
        "print(classification_report(y_test,predicted_NB))\n",
        "print(\"The percentage of accuracy of Naive-Bayes (on test data) is:\", NB_score)\n",
        "print(\"Matthewus corr coefficient:\", sklearn.metrics.matthews_corrcoef( y_test, predicted_NB ))\n",
        "print(\"Brier_score is:\", sklearn.metrics.brier_score_loss( y_test, predicted_NB ))\n",
        "\n",
        "print( '\\n-------------------------------------------------------------------------------------' )\n",
        "print( '----------------------------- Decision Tree ---------------------------' )\n",
        "\n",
        "## Decision Tree\n",
        "Decision_T =  DecisionTreeClassifier()\n",
        "Decision_T.fit(x_train, y_train)\n",
        "predicted_DT = Decision_T.predict(x_test)\n",
        "DT_score = accuracy_score(y_test, predicted_DT)\n",
        "print(classification_report(y_test,predicted_DT))\n",
        "print(\"The percentage of accuracy of Decision Tree is (on test data) :\", DT_score)\n",
        "print(\"Matthewus corr coefficient:\", sklearn.metrics.matthews_corrcoef( y_test, predicted_DT ))\n",
        "print(\"Brier_score is:\", sklearn.metrics.brier_score_loss( y_test, predicted_DT ))\n"
      ],
      "metadata": {
        "colab": {
          "base_uri": "https://localhost:8080/"
        },
        "id": "03HAUI71PSHK",
        "outputId": "a7aba245-2f48-4d54-a259-bab2a7496611"
      },
      "execution_count": 8,
      "outputs": [
        {
          "output_type": "stream",
          "name": "stdout",
          "text": [
            "\n",
            "-------------------------------------------------------------------------------------\n",
            "----------------------------- Logistic Regression ---------------------------\n",
            "              precision    recall  f1-score   support\n",
            "\n",
            "           0       0.91      0.90      0.90     22353\n",
            "           1       0.90      0.91      0.91     22744\n",
            "\n",
            "    accuracy                           0.90     45097\n",
            "   macro avg       0.90      0.90      0.90     45097\n",
            "weighted avg       0.90      0.90      0.90     45097\n",
            "\n",
            "The percentage of accuracy of Logistic Regression is:  0.9041843138124487\n",
            "Test Score:  0.9041843138124487\n",
            "Matthewus corr coefficient: 0.8084253776682867\n",
            "Brier_score is: 0.09581568618755128\n",
            "\n",
            "-------------------------------------------------------------------------------------\n",
            "----------------------------- Random Forest ---------------------------\n",
            "              precision    recall  f1-score   support\n",
            "\n",
            "           0       0.94      0.86      0.90     22353\n",
            "           1       0.87      0.95      0.91     22744\n",
            "\n",
            "    accuracy                           0.90     45097\n",
            "   macro avg       0.91      0.90      0.90     45097\n",
            "weighted avg       0.91      0.90      0.90     45097\n",
            "\n",
            "The percentage of accuracy of Random Forest (on test data) is:  0.9044947557487194\n",
            "Matthewus corr coefficient: 0.8119433423880511\n",
            "Brier_score is: 0.09550524425128057\n",
            "\n",
            "-------------------------------------------------------------------------------------\n",
            "----------------------------- Naive Bayes ---------------------------\n",
            "              precision    recall  f1-score   support\n",
            "\n",
            "           0       0.88      0.89      0.89     22353\n",
            "           1       0.89      0.88      0.89     22744\n",
            "\n",
            "    accuracy                           0.89     45097\n",
            "   macro avg       0.89      0.89      0.89     45097\n",
            "weighted avg       0.89      0.89      0.89     45097\n",
            "\n",
            "The percentage of accuracy of Naive-Bayes (on test data) is: 0.8890170077832228\n",
            "Matthewus corr coefficient: 0.7780787563588641\n",
            "Brier_score is: 0.11098299221677717\n",
            "\n",
            "-------------------------------------------------------------------------------------\n",
            "----------------------------- Decision Tree ---------------------------\n",
            "              precision    recall  f1-score   support\n",
            "\n",
            "           0       0.88      0.88      0.88     22353\n",
            "           1       0.89      0.88      0.88     22744\n",
            "\n",
            "    accuracy                           0.88     45097\n",
            "   macro avg       0.88      0.88      0.88     45097\n",
            "weighted avg       0.88      0.88      0.88     45097\n",
            "\n",
            "The percentage of accuracy of Decision Tree is (on test data) : 0.8821872851852673\n",
            "Matthewus corr coefficient: 0.7643936398151602\n",
            "Brier_score is: 0.11781271481473268\n"
          ]
        }
      ]
    }
  ]
}